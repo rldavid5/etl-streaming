{
 "cells": [
  {
   "cell_type": "markdown",
   "id": "0623d8e1",
   "metadata": {},
   "source": [
    "## Initialize Spark"
   ]
  },
  {
   "cell_type": "code",
   "execution_count": 1,
   "id": "93531eb9",
   "metadata": {
    "scrolled": true
   },
   "outputs": [],
   "source": [
    "import findspark"
   ]
  },
  {
   "cell_type": "code",
   "execution_count": 2,
   "id": "ff18b26b",
   "metadata": {},
   "outputs": [],
   "source": [
    "findspark.init('C:\\spark')"
   ]
  },
  {
   "cell_type": "code",
   "execution_count": 3,
   "id": "85ff1b02",
   "metadata": {},
   "outputs": [],
   "source": [
    "from pyspark import SparkContext\n",
    "from pyspark.streaming import StreamingContext\n",
    "from pyspark.sql import SQLContext\n",
    "from pyspark.sql.functions import desc"
   ]
  },
  {
   "cell_type": "code",
   "execution_count": 4,
   "id": "e6bb75bf",
   "metadata": {},
   "outputs": [],
   "source": [
    "sc = SparkContext()"
   ]
  },
  {
   "cell_type": "code",
   "execution_count": 5,
   "id": "32793331",
   "metadata": {},
   "outputs": [
    {
     "name": "stderr",
     "output_type": "stream",
     "text": [
      "C:\\spark\\python\\pyspark\\sql\\context.py:112: FutureWarning: Deprecated in 3.0.0. Use SparkSession.builder.getOrCreate() instead.\n",
      "  warnings.warn(\n"
     ]
    }
   ],
   "source": [
    "ssc = StreamingContext(sc,10)\n",
    "sqlContext = SQLContext(sc)"
   ]
  },
  {
   "cell_type": "code",
   "execution_count": 6,
   "id": "88d61ff0",
   "metadata": {},
   "outputs": [],
   "source": [
    "socket_stream = ssc.socketTextStream('127.0.0.1',7777)"
   ]
  },
  {
   "cell_type": "code",
   "execution_count": 7,
   "id": "2d636678",
   "metadata": {},
   "outputs": [],
   "source": [
    "lines = socket_stream.window(20)\n"
   ]
  },
  {
   "cell_type": "markdown",
   "id": "226f4cfd",
   "metadata": {},
   "source": [
    "## Function to extract prices from tweets"
   ]
  },
  {
   "cell_type": "code",
   "execution_count": null,
   "id": "c775fdc8",
   "metadata": {},
   "outputs": [],
   "source": [
    "from pyspark.sql.types import *\n",
    "\n",
    "# Define the schema for the table\n",
    "schema = StructType([\n",
    "    StructField(\"name\", StringType()),\n",
    "    StructField(\"price\", StringType())\n",
    "])\n",
    "\n",
    "# Splits the text into a list\n",
    "lines.flatMap( lambda text: text.split( \" \" ) ) \n",
    "\n",
    "# checks for hashtags that match the specified price format, starting with a dollar sign and \n",
    "# consisting of one to three digits, followed by a comma or dot and three more digits, \n",
    "# followed by another comma or dot and two digits\n",
    "  .filter( lambda word: word.startswith(\"$\") and re.match(r'^\\$\\d{1,3}(?:[.,]\\d{3})*(?:[.,]\\d{2})', word) )\n",
    "\n",
    "# creates a tuple of the word and its price\n",
    "  .map( lambda word: (word.split('$')[1], word) )\n",
    "\n",
    "# create a dataframe\n",
    "  .toDF([\"price\", \"name\"])\n",
    "\n",
    "# stores the dataframe in a parquet file\n",
    "  .write.format(\"parquet\").save(\"crypto_prices.parquet\")\n"
   ]
  },
  {
   "cell_type": "code",
   "execution_count": null,
   "id": "b547445b",
   "metadata": {},
   "outputs": [],
   "source": [
    "#RUN --ReadTweet.py"
   ]
  },
  {
   "cell_type": "code",
   "execution_count": null,
   "id": "eed2a622",
   "metadata": {},
   "outputs": [],
   "source": [
    "ssc.start()"
   ]
  },
  {
   "cell_type": "code",
   "execution_count": 10,
   "id": "8d6bb62f",
   "metadata": {},
   "outputs": [],
   "source": [
    "ssc.stop()"
   ]
  },
  {
   "cell_type": "code",
   "execution_count": null,
   "id": "d0b841bc",
   "metadata": {},
   "outputs": [],
   "source": []
  },
  {
   "cell_type": "markdown",
   "id": "f7b068c5",
   "metadata": {},
   "source": [
    "## Unit testing"
   ]
  },
  {
   "cell_type": "code",
   "execution_count": null,
   "id": "92d39f68",
   "metadata": {},
   "outputs": [],
   "source": [
    "import unittest\n",
    "from pyspark.sql import SparkSession\n",
    "\n",
    "class TestCryptoPrices(unittest.TestCase):\n",
    "\n",
    "    def setUp(self):\n",
    "        # create a SparkSession\n",
    "        self.spark = SparkSession.builder.appName(\"TestCryptoPrices\").getOrCreate()\n",
    "\n",
    "    def test_crypto_prices(self):\n",
    "        # create a sample dataframe with crypto prices\n",
    "        data = [(\"$100,000.00\", \"Bitcoin\"), (\"$200,000.00\", \"Ethereum\"), (\"$300,000.00\", \"Dogecoin\"), (\"$400,000.00\", \"USDT\")]\n",
    "        df = self.spark.createDataFrame(data, [\"price\", \"name\"])\n",
    "\n",
    "        # call the function to process the dataframe\n",
    "        processed_df = process_crypto_prices(df)\n",
    "\n",
    "        # assert that the resulting dataframe has the correct number of rows\n",
    "        self.assertEqual(processed_df.count(), 4)\n",
    "\n",
    "        # assert that the resulting dataframe contains the expected values\n",
    "        expected_data = [(\"100,000.00\", \"Bitcoin\"), (\"200,000.00\", \"Ethereum\"), (\"300,000.00\", \"Dogecoin\"), (\"400,000.00\", \"USDT\")]\n",
    "        for row in expected_data:\n",
    "            self.assertTrue(processed_df.filter(processed_df.price == row[0]).filter(processed_df.name == row[1]).count() > 0)\n",
    "\n",
    "    def tearDown(self):\n",
    "        self.spark.stop()\n",
    "\n",
    "if __name__ == '__main__':\n",
    "    unittest.main()\n"
   ]
  }
 ],
 "metadata": {
  "kernelspec": {
   "display_name": "Python 3 (ipykernel)",
   "language": "python",
   "name": "python3"
  },
  "language_info": {
   "codemirror_mode": {
    "name": "ipython",
    "version": 3
   },
   "file_extension": ".py",
   "mimetype": "text/x-python",
   "name": "python",
   "nbconvert_exporter": "python",
   "pygments_lexer": "ipython3",
   "version": "3.9.13"
  }
 },
 "nbformat": 4,
 "nbformat_minor": 5
}
